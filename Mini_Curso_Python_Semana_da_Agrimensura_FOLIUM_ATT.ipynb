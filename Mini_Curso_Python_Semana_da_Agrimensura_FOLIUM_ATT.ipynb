{
  "nbformat": 4,
  "nbformat_minor": 0,
  "metadata": {
    "colab": {
      "provenance": []
    },
    "kernelspec": {
      "name": "python3",
      "display_name": "Python 3"
    },
    "language_info": {
      "name": "python"
    }
  },
  "cells": [
    {
      "cell_type": "markdown",
      "source": [
        "# Instalação das bibliotecas"
      ],
      "metadata": {
        "id": "WcHLg-5jPrMQ"
      }
    },
    {
      "cell_type": "code",
      "execution_count": 5,
      "metadata": {
        "id": "D2ExhUFQ-HgC",
        "colab": {
          "base_uri": "https://localhost:8080/"
        },
        "outputId": "a443869a-0a78-4e3d-9500-00251c22f947"
      },
      "outputs": [
        {
          "output_type": "stream",
          "name": "stdout",
          "text": [
            "Requirement already satisfied: folium in /usr/local/lib/python3.10/dist-packages (0.17.0)\n",
            "Requirement already satisfied: branca>=0.6.0 in /usr/local/lib/python3.10/dist-packages (from folium) (0.8.0)\n",
            "Requirement already satisfied: jinja2>=2.9 in /usr/local/lib/python3.10/dist-packages (from folium) (3.1.4)\n",
            "Requirement already satisfied: numpy in /usr/local/lib/python3.10/dist-packages (from folium) (1.26.4)\n",
            "Requirement already satisfied: requests in /usr/local/lib/python3.10/dist-packages (from folium) (2.32.3)\n",
            "Requirement already satisfied: xyzservices in /usr/local/lib/python3.10/dist-packages (from folium) (2024.9.0)\n",
            "Requirement already satisfied: MarkupSafe>=2.0 in /usr/local/lib/python3.10/dist-packages (from jinja2>=2.9->folium) (2.1.5)\n",
            "Requirement already satisfied: charset-normalizer<4,>=2 in /usr/local/lib/python3.10/dist-packages (from requests->folium) (3.3.2)\n",
            "Requirement already satisfied: idna<4,>=2.5 in /usr/local/lib/python3.10/dist-packages (from requests->folium) (3.10)\n",
            "Requirement already satisfied: urllib3<3,>=1.21.1 in /usr/local/lib/python3.10/dist-packages (from requests->folium) (2.2.3)\n",
            "Requirement already satisfied: certifi>=2017.4.17 in /usr/local/lib/python3.10/dist-packages (from requests->folium) (2024.8.30)\n",
            "Collecting utm\n",
            "  Downloading utm-0.7.0.tar.gz (8.7 kB)\n",
            "  Preparing metadata (setup.py) ... \u001b[?25l\u001b[?25hdone\n",
            "Building wheels for collected packages: utm\n",
            "  Building wheel for utm (setup.py) ... \u001b[?25l\u001b[?25hdone\n",
            "  Created wheel for utm: filename=utm-0.7.0-py3-none-any.whl size=6085 sha256=ef989e4dc9a3d0d2d8668b337c068a94cf6176731845033d3db4a244fef6cd54\n",
            "  Stored in directory: /root/.cache/pip/wheels/2f/a1/c8/543df0e8f5e824c3e92a432e32deb9cd89ae686095ee8cfcbe\n",
            "Successfully built utm\n",
            "Installing collected packages: utm\n",
            "Successfully installed utm-0.7.0\n"
          ]
        }
      ],
      "source": [
        "#sistema de gerenciamento de pacotes padrão\n",
        "\n",
        "!pip install folium\n",
        "!pip install utm"
      ]
    },
    {
      "cell_type": "markdown",
      "source": [
        "# Importação das bibliotecas"
      ],
      "metadata": {
        "id": "FxNEzbvi-pnr"
      }
    },
    {
      "cell_type": "code",
      "source": [
        "import folium\n",
        "import utm\n"
      ],
      "metadata": {
        "id": "LlJ1Om4m-jTv"
      },
      "execution_count": 6,
      "outputs": []
    },
    {
      "cell_type": "markdown",
      "source": [
        "# Markers"
      ],
      "metadata": {
        "id": "ufEl3gIj-_Dt"
      }
    },
    {
      "cell_type": "code",
      "source": [
        "#marker a\n",
        "\n",
        "\n",
        "# Conversor ZOOM\n",
        "conversor = utm.to_latlon(233669.92, 7927890.24, 23, 'K')\n",
        "lat = conversor[0]\n",
        "long = conversor[1]\n",
        "print(lat)\n",
        "print(long)\n",
        "#`utm.to_latlon` UTM (233669.92, 7927890.24) da zona 23 (hemisfério 'K') para (lat e long).\n",
        "\n",
        "# mapa com o folium\n",
        "mapa = folium.Map(location=conversor, zoom_start=30)\n",
        "# `folium.Map` é usado para gerar um mapa interativo.\n",
        "\n",
        "# Marker A - Conversão UTM para latitude e longitude para o marcador A\n",
        "marcadorA = utm.to_latlon(233831.51, 7927775.91, 23, 'K')\n",
        "\n",
        "\n",
        "# Adição de um marcador no mapa\n",
        "folium.Marker(\n",
        "    location=marcadorA,       # Localização do marcador usando as coordenadas convertidas\n",
        "    tooltip='Bloco A',      # Texto que aparece quando se passa o mouse sobre o marcador (\"Bloco A\")\n",
        "    icon=folium.Icon(color=\"green\"),  # Define o ícone do marcador como um ícone verde\n",
        ").add_to(mapa)  # Add o marcador ao mapa `m`.\n",
        "\n",
        "mapa"
      ],
      "metadata": {
        "id": "p6eUMf7m-flr",
        "colab": {
          "base_uri": "https://localhost:8080/",
          "height": 719
        },
        "outputId": "dc0a6c62-de6d-4fa0-cee5-54ae7a09f399",
        "collapsed": true
      },
      "execution_count": 28,
      "outputs": [
        {
          "output_type": "stream",
          "name": "stdout",
          "text": [
            "-18.723416985376772\n",
            "-47.52565598570274\n"
          ]
        },
        {
          "output_type": "execute_result",
          "data": {
            "text/plain": [
              "<folium.folium.Map at 0x7929c74f2d10>"
            ],
            "text/html": [
              "<div style=\"width:100%;\"><div style=\"position:relative;width:100%;height:0;padding-bottom:60%;\"><span style=\"color:#565656\">Make this Notebook Trusted to load map: File -> Trust Notebook</span><iframe srcdoc=\"&lt;!DOCTYPE html&gt;\n",
              "&lt;html&gt;\n",
              "&lt;head&gt;\n",
              "    \n",
              "    &lt;meta http-equiv=&quot;content-type&quot; content=&quot;text/html; charset=UTF-8&quot; /&gt;\n",
              "    \n",
              "        &lt;script&gt;\n",
              "            L_NO_TOUCH = false;\n",
              "            L_DISABLE_3D = false;\n",
              "        &lt;/script&gt;\n",
              "    \n",
              "    &lt;style&gt;html, body {width: 100%;height: 100%;margin: 0;padding: 0;}&lt;/style&gt;\n",
              "    &lt;style&gt;#map {position:absolute;top:0;bottom:0;right:0;left:0;}&lt;/style&gt;\n",
              "    &lt;script src=&quot;https://cdn.jsdelivr.net/npm/leaflet@1.9.3/dist/leaflet.js&quot;&gt;&lt;/script&gt;\n",
              "    &lt;script src=&quot;https://code.jquery.com/jquery-3.7.1.min.js&quot;&gt;&lt;/script&gt;\n",
              "    &lt;script src=&quot;https://cdn.jsdelivr.net/npm/bootstrap@5.2.2/dist/js/bootstrap.bundle.min.js&quot;&gt;&lt;/script&gt;\n",
              "    &lt;script src=&quot;https://cdnjs.cloudflare.com/ajax/libs/Leaflet.awesome-markers/2.0.2/leaflet.awesome-markers.js&quot;&gt;&lt;/script&gt;\n",
              "    &lt;link rel=&quot;stylesheet&quot; href=&quot;https://cdn.jsdelivr.net/npm/leaflet@1.9.3/dist/leaflet.css&quot;/&gt;\n",
              "    &lt;link rel=&quot;stylesheet&quot; href=&quot;https://cdn.jsdelivr.net/npm/bootstrap@5.2.2/dist/css/bootstrap.min.css&quot;/&gt;\n",
              "    &lt;link rel=&quot;stylesheet&quot; href=&quot;https://netdna.bootstrapcdn.com/bootstrap/3.0.0/css/bootstrap-glyphicons.css&quot;/&gt;\n",
              "    &lt;link rel=&quot;stylesheet&quot; href=&quot;https://cdn.jsdelivr.net/npm/@fortawesome/fontawesome-free@6.2.0/css/all.min.css&quot;/&gt;\n",
              "    &lt;link rel=&quot;stylesheet&quot; href=&quot;https://cdnjs.cloudflare.com/ajax/libs/Leaflet.awesome-markers/2.0.2/leaflet.awesome-markers.css&quot;/&gt;\n",
              "    &lt;link rel=&quot;stylesheet&quot; href=&quot;https://cdn.jsdelivr.net/gh/python-visualization/folium/folium/templates/leaflet.awesome.rotate.min.css&quot;/&gt;\n",
              "    \n",
              "            &lt;meta name=&quot;viewport&quot; content=&quot;width=device-width,\n",
              "                initial-scale=1.0, maximum-scale=1.0, user-scalable=no&quot; /&gt;\n",
              "            &lt;style&gt;\n",
              "                #map_aac94ccf45489da546f30a78d675ba14 {\n",
              "                    position: relative;\n",
              "                    width: 100.0%;\n",
              "                    height: 100.0%;\n",
              "                    left: 0.0%;\n",
              "                    top: 0.0%;\n",
              "                }\n",
              "                .leaflet-container { font-size: 1rem; }\n",
              "            &lt;/style&gt;\n",
              "        \n",
              "&lt;/head&gt;\n",
              "&lt;body&gt;\n",
              "    \n",
              "    \n",
              "            &lt;div class=&quot;folium-map&quot; id=&quot;map_aac94ccf45489da546f30a78d675ba14&quot; &gt;&lt;/div&gt;\n",
              "        \n",
              "&lt;/body&gt;\n",
              "&lt;script&gt;\n",
              "    \n",
              "    \n",
              "            var map_aac94ccf45489da546f30a78d675ba14 = L.map(\n",
              "                &quot;map_aac94ccf45489da546f30a78d675ba14&quot;,\n",
              "                {\n",
              "                    center: [-18.723416985376772, -47.52565598570274],\n",
              "                    crs: L.CRS.EPSG3857,\n",
              "                    zoom: 30,\n",
              "                    zoomControl: true,\n",
              "                    preferCanvas: false,\n",
              "                }\n",
              "            );\n",
              "\n",
              "            \n",
              "\n",
              "        \n",
              "    \n",
              "            var tile_layer_13aecf7c443328506f5d9bbb120c4a77 = L.tileLayer(\n",
              "                &quot;https://tile.openstreetmap.org/{z}/{x}/{y}.png&quot;,\n",
              "                {&quot;attribution&quot;: &quot;\\u0026copy; \\u003ca href=\\&quot;https://www.openstreetmap.org/copyright\\&quot;\\u003eOpenStreetMap\\u003c/a\\u003e contributors&quot;, &quot;detectRetina&quot;: false, &quot;maxNativeZoom&quot;: 19, &quot;maxZoom&quot;: 19, &quot;minZoom&quot;: 0, &quot;noWrap&quot;: false, &quot;opacity&quot;: 1, &quot;subdomains&quot;: &quot;abc&quot;, &quot;tms&quot;: false}\n",
              "            );\n",
              "        \n",
              "    \n",
              "            tile_layer_13aecf7c443328506f5d9bbb120c4a77.addTo(map_aac94ccf45489da546f30a78d675ba14);\n",
              "        \n",
              "    \n",
              "            var marker_a6381d073f43075c7f46ab56a5d28321 = L.marker(\n",
              "                [-18.724469939141624, -47.524140029855616],\n",
              "                {}\n",
              "            ).addTo(map_aac94ccf45489da546f30a78d675ba14);\n",
              "        \n",
              "    \n",
              "            var icon_6caa64400a63973ca7a63f1a4ff8c717 = L.AwesomeMarkers.icon(\n",
              "                {&quot;extraClasses&quot;: &quot;fa-rotate-0&quot;, &quot;icon&quot;: &quot;info-sign&quot;, &quot;iconColor&quot;: &quot;white&quot;, &quot;markerColor&quot;: &quot;green&quot;, &quot;prefix&quot;: &quot;glyphicon&quot;}\n",
              "            );\n",
              "            marker_a6381d073f43075c7f46ab56a5d28321.setIcon(icon_6caa64400a63973ca7a63f1a4ff8c717);\n",
              "        \n",
              "    \n",
              "            marker_a6381d073f43075c7f46ab56a5d28321.bindTooltip(\n",
              "                `&lt;div&gt;\n",
              "                     Bloco A\n",
              "                 &lt;/div&gt;`,\n",
              "                {&quot;sticky&quot;: true}\n",
              "            );\n",
              "        \n",
              "&lt;/script&gt;\n",
              "&lt;/html&gt;\" style=\"position:absolute;width:100%;height:100%;left:0;top:0;border:none !important;\" allowfullscreen webkitallowfullscreen mozallowfullscreen></iframe></div></div>"
            ]
          },
          "metadata": {},
          "execution_count": 28
        }
      ]
    },
    {
      "cell_type": "code",
      "source": [
        "#marker b\n",
        "\n",
        "# Conversor ZOOM\n",
        "conversor = utm.to_latlon(233669.92, 7927890.24, 23, 'K')\n",
        "#`utm.to_latlon` UTM (233669.92, 7927890.24) da zona 23 (hemisfério 'K') para (lat e long).\n",
        "\n",
        "# mapa com o folium\n",
        "mapa = folium.Map(location=conversor, zoom_start=30)\n",
        "# `folium.Map` é usado para gerar um mapa interativo.\n",
        "\n",
        "\n",
        "#Conversor Marker B\n",
        "marcadorB = utm.to_latlon(233829.20, 7927864.47, 23, 'K')\n",
        "\n",
        "#add de um marcador no mapa\n",
        "folium.Marker(\n",
        "    location=marcadorB, # Localização do marcador, usando as coordenadas convertidas.\n",
        "    tooltip = 'Bloco B', # Texto que aparece quando se passa o mouse sobre o marcador (\"Bloco B\").\n",
        "    icon=folium.Icon(color=\"orange\", icon=\"info-sign\"), # Define o ícone do marcador como um ícone laranja.\n",
        ").add_to(mapa) # Adiciona o marcador ao mapa `m`.\n",
        "\n",
        "mapa"
      ],
      "metadata": {
        "id": "3syRHAUj_EAq",
        "colab": {
          "base_uri": "https://localhost:8080/",
          "height": 685
        },
        "outputId": "b285e34e-3024-4786-c118-f79d4d20bf2a",
        "collapsed": true
      },
      "execution_count": 21,
      "outputs": [
        {
          "output_type": "execute_result",
          "data": {
            "text/plain": [
              "<folium.folium.Map at 0x7929c77272b0>"
            ],
            "text/html": [
              "<div style=\"width:100%;\"><div style=\"position:relative;width:100%;height:0;padding-bottom:60%;\"><span style=\"color:#565656\">Make this Notebook Trusted to load map: File -> Trust Notebook</span><iframe srcdoc=\"&lt;!DOCTYPE html&gt;\n",
              "&lt;html&gt;\n",
              "&lt;head&gt;\n",
              "    \n",
              "    &lt;meta http-equiv=&quot;content-type&quot; content=&quot;text/html; charset=UTF-8&quot; /&gt;\n",
              "    \n",
              "        &lt;script&gt;\n",
              "            L_NO_TOUCH = false;\n",
              "            L_DISABLE_3D = false;\n",
              "        &lt;/script&gt;\n",
              "    \n",
              "    &lt;style&gt;html, body {width: 100%;height: 100%;margin: 0;padding: 0;}&lt;/style&gt;\n",
              "    &lt;style&gt;#map {position:absolute;top:0;bottom:0;right:0;left:0;}&lt;/style&gt;\n",
              "    &lt;script src=&quot;https://cdn.jsdelivr.net/npm/leaflet@1.9.3/dist/leaflet.js&quot;&gt;&lt;/script&gt;\n",
              "    &lt;script src=&quot;https://code.jquery.com/jquery-3.7.1.min.js&quot;&gt;&lt;/script&gt;\n",
              "    &lt;script src=&quot;https://cdn.jsdelivr.net/npm/bootstrap@5.2.2/dist/js/bootstrap.bundle.min.js&quot;&gt;&lt;/script&gt;\n",
              "    &lt;script src=&quot;https://cdnjs.cloudflare.com/ajax/libs/Leaflet.awesome-markers/2.0.2/leaflet.awesome-markers.js&quot;&gt;&lt;/script&gt;\n",
              "    &lt;link rel=&quot;stylesheet&quot; href=&quot;https://cdn.jsdelivr.net/npm/leaflet@1.9.3/dist/leaflet.css&quot;/&gt;\n",
              "    &lt;link rel=&quot;stylesheet&quot; href=&quot;https://cdn.jsdelivr.net/npm/bootstrap@5.2.2/dist/css/bootstrap.min.css&quot;/&gt;\n",
              "    &lt;link rel=&quot;stylesheet&quot; href=&quot;https://netdna.bootstrapcdn.com/bootstrap/3.0.0/css/bootstrap-glyphicons.css&quot;/&gt;\n",
              "    &lt;link rel=&quot;stylesheet&quot; href=&quot;https://cdn.jsdelivr.net/npm/@fortawesome/fontawesome-free@6.2.0/css/all.min.css&quot;/&gt;\n",
              "    &lt;link rel=&quot;stylesheet&quot; href=&quot;https://cdnjs.cloudflare.com/ajax/libs/Leaflet.awesome-markers/2.0.2/leaflet.awesome-markers.css&quot;/&gt;\n",
              "    &lt;link rel=&quot;stylesheet&quot; href=&quot;https://cdn.jsdelivr.net/gh/python-visualization/folium/folium/templates/leaflet.awesome.rotate.min.css&quot;/&gt;\n",
              "    \n",
              "            &lt;meta name=&quot;viewport&quot; content=&quot;width=device-width,\n",
              "                initial-scale=1.0, maximum-scale=1.0, user-scalable=no&quot; /&gt;\n",
              "            &lt;style&gt;\n",
              "                #map_81ab07055998b069d1bc1f2cae870667 {\n",
              "                    position: relative;\n",
              "                    width: 100.0%;\n",
              "                    height: 100.0%;\n",
              "                    left: 0.0%;\n",
              "                    top: 0.0%;\n",
              "                }\n",
              "                .leaflet-container { font-size: 1rem; }\n",
              "            &lt;/style&gt;\n",
              "        \n",
              "&lt;/head&gt;\n",
              "&lt;body&gt;\n",
              "    \n",
              "    \n",
              "            &lt;div class=&quot;folium-map&quot; id=&quot;map_81ab07055998b069d1bc1f2cae870667&quot; &gt;&lt;/div&gt;\n",
              "        \n",
              "&lt;/body&gt;\n",
              "&lt;script&gt;\n",
              "    \n",
              "    \n",
              "            var map_81ab07055998b069d1bc1f2cae870667 = L.map(\n",
              "                &quot;map_81ab07055998b069d1bc1f2cae870667&quot;,\n",
              "                {\n",
              "                    center: [-18.723416985376772, -47.52565598570274],\n",
              "                    crs: L.CRS.EPSG3857,\n",
              "                    zoom: 30,\n",
              "                    zoomControl: true,\n",
              "                    preferCanvas: false,\n",
              "                }\n",
              "            );\n",
              "\n",
              "            \n",
              "\n",
              "        \n",
              "    \n",
              "            var tile_layer_9a38b8273d5a50fa4f373d5f9ccf75fe = L.tileLayer(\n",
              "                &quot;https://tile.openstreetmap.org/{z}/{x}/{y}.png&quot;,\n",
              "                {&quot;attribution&quot;: &quot;\\u0026copy; \\u003ca href=\\&quot;https://www.openstreetmap.org/copyright\\&quot;\\u003eOpenStreetMap\\u003c/a\\u003e contributors&quot;, &quot;detectRetina&quot;: false, &quot;maxNativeZoom&quot;: 19, &quot;maxZoom&quot;: 19, &quot;minZoom&quot;: 0, &quot;noWrap&quot;: false, &quot;opacity&quot;: 1, &quot;subdomains&quot;: &quot;abc&quot;, &quot;tms&quot;: false}\n",
              "            );\n",
              "        \n",
              "    \n",
              "            tile_layer_9a38b8273d5a50fa4f373d5f9ccf75fe.addTo(map_81ab07055998b069d1bc1f2cae870667);\n",
              "        \n",
              "    \n",
              "            var marker_37e16e30e495e0dd1772502e31eab616 = L.marker(\n",
              "                [-18.723670023621903, -47.5241500441424],\n",
              "                {}\n",
              "            ).addTo(map_81ab07055998b069d1bc1f2cae870667);\n",
              "        \n",
              "    \n",
              "            var icon_7bef9e1015d558b5dbd27d45329dfd35 = L.AwesomeMarkers.icon(\n",
              "                {&quot;extraClasses&quot;: &quot;fa-rotate-0&quot;, &quot;icon&quot;: &quot;info-sign&quot;, &quot;iconColor&quot;: &quot;white&quot;, &quot;markerColor&quot;: &quot;orange&quot;, &quot;prefix&quot;: &quot;glyphicon&quot;}\n",
              "            );\n",
              "            marker_37e16e30e495e0dd1772502e31eab616.setIcon(icon_7bef9e1015d558b5dbd27d45329dfd35);\n",
              "        \n",
              "    \n",
              "            marker_37e16e30e495e0dd1772502e31eab616.bindTooltip(\n",
              "                `&lt;div&gt;\n",
              "                     Bloco B\n",
              "                 &lt;/div&gt;`,\n",
              "                {&quot;sticky&quot;: true}\n",
              "            );\n",
              "        \n",
              "&lt;/script&gt;\n",
              "&lt;/html&gt;\" style=\"position:absolute;width:100%;height:100%;left:0;top:0;border:none !important;\" allowfullscreen webkitallowfullscreen mozallowfullscreen></iframe></div></div>"
            ]
          },
          "metadata": {},
          "execution_count": 21
        }
      ]
    },
    {
      "cell_type": "markdown",
      "source": [
        "# Manipulação de arquivo"
      ],
      "metadata": {
        "id": "iMtJ-Eb6B8aO"
      }
    },
    {
      "cell_type": "code",
      "source": [
        "def ListaCoordenadas(testFile: str) -> list:\n",
        "\n",
        "    # arquivo de texto passado como argumento no modo de leitura ('r'), UTF-8, lê todo o conteúdo\n",
        "    txtCoordenadas = open(testFile, 'r', encoding='utf-8').read()\n",
        "\n",
        "    # divide o conteúdo do arquivo em uma lista de strings. Cada linha é um elemento da lista.\n",
        "    listCoordenadas = txtCoordenadas.split('\\n')\n",
        "\n",
        "    listOrderedCoordinates = []\n",
        "\n",
        "    # inicio loop para cada item (coord) em 'listCoordenadas'\n",
        "    for coord in listCoordenadas:\n",
        "\n",
        "        # transforma de \"x,y\" em ['x', 'y'].\n",
        "        listCoord = coord.split(',')\n",
        "        listOrderedCoordinates.append(listCoord)\n",
        "\n",
        "    # retorna a lista coordenadas separadas.\n",
        "    return listOrderedCoordinates\n",
        "\n"
      ],
      "metadata": {
        "id": "HMDA51RRCdp9"
      },
      "execution_count": 30,
      "outputs": []
    },
    {
      "cell_type": "markdown",
      "source": [
        "# Conversor coordenadas"
      ],
      "metadata": {
        "id": "jHTSAFa-Cyte"
      }
    },
    {
      "cell_type": "code",
      "source": [
        "arquivoUDIA = ListaCoordenadas('/content/sample_data/fileudia.txt')\n",
        "CoordGeo = []\n",
        "\n",
        "# para cada elemento do arquivo\n",
        "for elemento in arquivoUDIA:\n",
        "    leste = float(elemento[0])   # LESTE\n",
        "    norte = float(elemento[1])   # NORTE\n",
        "    zona = int(elemento[2])      # ZONA\n",
        "    hemisferio = elemento[3]     # SIGLA HEMISFERIO\n",
        "    conversorCoord = utm.to_latlon(leste, norte, zona, hemisferio) # Converor UTM para lat e long\n",
        "    CoordGeo.append(conversorCoord)# add na lista Coordenadas Geograficas\n",
        "\n",
        "print(CoordGeo)"
      ],
      "metadata": {
        "id": "S_r7zFFqCm1P",
        "colab": {
          "base_uri": "https://localhost:8080/"
        },
        "outputId": "6048c20d-3db9-4899-bd9f-ac699fb6ae54"
      },
      "execution_count": 39,
      "outputs": [
        {
          "output_type": "stream",
          "name": "stdout",
          "text": [
            "[(-18.91592192416536, -48.259025985841866), (-18.91728192262522, -48.254016037349054), (-18.919341982664264, -48.25464899956789), (-18.920833956758965, -48.26219098291303), (-18.92056995539113, -48.262265970701954)]\n"
          ]
        }
      ]
    },
    {
      "cell_type": "markdown",
      "source": [
        "# Vetorização - Poligonos"
      ],
      "metadata": {
        "id": "aVHGDzbhDJbm"
      }
    },
    {
      "cell_type": "code",
      "source": [
        "#COORDENADA DE ZOOM\n",
        "conversor = utm.to_latlon(788852.70, 7905974.82, 22, 'K')\n",
        "\n",
        "# mapa com o folium\n",
        "mapa = folium.Map(location=conversor, zoom_start=30)\n",
        "# `folium.Map` gera um mapa\n",
        "\n",
        "#VETORIZAÇÃO\n",
        "folium.Polygon(\n",
        "    locations=CoordGeo,     # coordenadas dos vértices do polígono\n",
        "    color='blue',           # cor da borda\n",
        "    weight=6,               # largura da borda\n",
        "    fill_color='red',       # cor do preenchimento\n",
        "    fill_opacity=0.5,       # opacidade do preenchimento\n",
        "    fill=True,              # preenchimento ligado\n",
        "    popup='Campus UFU Santa Monica',  # Popup de texto\n",
        "    tooltip='click me',     # dica\n",
        ").add_to(mapa)\n",
        "\n",
        "mapa"
      ],
      "metadata": {
        "id": "HRSWmSlxC57x",
        "colab": {
          "base_uri": "https://localhost:8080/",
          "height": 685
        },
        "outputId": "cc62f286-e470-467e-a97e-1fd8f43f46ac",
        "collapsed": true
      },
      "execution_count": 67,
      "outputs": [
        {
          "output_type": "execute_result",
          "data": {
            "text/plain": [
              "<folium.folium.Map at 0x7929c66b25c0>"
            ],
            "text/html": [
              "<div style=\"width:100%;\"><div style=\"position:relative;width:100%;height:0;padding-bottom:60%;\"><span style=\"color:#565656\">Make this Notebook Trusted to load map: File -> Trust Notebook</span><iframe srcdoc=\"&lt;!DOCTYPE html&gt;\n",
              "&lt;html&gt;\n",
              "&lt;head&gt;\n",
              "    \n",
              "    &lt;meta http-equiv=&quot;content-type&quot; content=&quot;text/html; charset=UTF-8&quot; /&gt;\n",
              "    \n",
              "        &lt;script&gt;\n",
              "            L_NO_TOUCH = false;\n",
              "            L_DISABLE_3D = false;\n",
              "        &lt;/script&gt;\n",
              "    \n",
              "    &lt;style&gt;html, body {width: 100%;height: 100%;margin: 0;padding: 0;}&lt;/style&gt;\n",
              "    &lt;style&gt;#map {position:absolute;top:0;bottom:0;right:0;left:0;}&lt;/style&gt;\n",
              "    &lt;script src=&quot;https://cdn.jsdelivr.net/npm/leaflet@1.9.3/dist/leaflet.js&quot;&gt;&lt;/script&gt;\n",
              "    &lt;script src=&quot;https://code.jquery.com/jquery-3.7.1.min.js&quot;&gt;&lt;/script&gt;\n",
              "    &lt;script src=&quot;https://cdn.jsdelivr.net/npm/bootstrap@5.2.2/dist/js/bootstrap.bundle.min.js&quot;&gt;&lt;/script&gt;\n",
              "    &lt;script src=&quot;https://cdnjs.cloudflare.com/ajax/libs/Leaflet.awesome-markers/2.0.2/leaflet.awesome-markers.js&quot;&gt;&lt;/script&gt;\n",
              "    &lt;link rel=&quot;stylesheet&quot; href=&quot;https://cdn.jsdelivr.net/npm/leaflet@1.9.3/dist/leaflet.css&quot;/&gt;\n",
              "    &lt;link rel=&quot;stylesheet&quot; href=&quot;https://cdn.jsdelivr.net/npm/bootstrap@5.2.2/dist/css/bootstrap.min.css&quot;/&gt;\n",
              "    &lt;link rel=&quot;stylesheet&quot; href=&quot;https://netdna.bootstrapcdn.com/bootstrap/3.0.0/css/bootstrap-glyphicons.css&quot;/&gt;\n",
              "    &lt;link rel=&quot;stylesheet&quot; href=&quot;https://cdn.jsdelivr.net/npm/@fortawesome/fontawesome-free@6.2.0/css/all.min.css&quot;/&gt;\n",
              "    &lt;link rel=&quot;stylesheet&quot; href=&quot;https://cdnjs.cloudflare.com/ajax/libs/Leaflet.awesome-markers/2.0.2/leaflet.awesome-markers.css&quot;/&gt;\n",
              "    &lt;link rel=&quot;stylesheet&quot; href=&quot;https://cdn.jsdelivr.net/gh/python-visualization/folium/folium/templates/leaflet.awesome.rotate.min.css&quot;/&gt;\n",
              "    \n",
              "            &lt;meta name=&quot;viewport&quot; content=&quot;width=device-width,\n",
              "                initial-scale=1.0, maximum-scale=1.0, user-scalable=no&quot; /&gt;\n",
              "            &lt;style&gt;\n",
              "                #map_813b63785be16b47f4a50a066a4f9e75 {\n",
              "                    position: relative;\n",
              "                    width: 100.0%;\n",
              "                    height: 100.0%;\n",
              "                    left: 0.0%;\n",
              "                    top: 0.0%;\n",
              "                }\n",
              "                .leaflet-container { font-size: 1rem; }\n",
              "            &lt;/style&gt;\n",
              "        \n",
              "&lt;/head&gt;\n",
              "&lt;body&gt;\n",
              "    \n",
              "    \n",
              "            &lt;div class=&quot;folium-map&quot; id=&quot;map_813b63785be16b47f4a50a066a4f9e75&quot; &gt;&lt;/div&gt;\n",
              "        \n",
              "&lt;/body&gt;\n",
              "&lt;script&gt;\n",
              "    \n",
              "    \n",
              "            var map_813b63785be16b47f4a50a066a4f9e75 = L.map(\n",
              "                &quot;map_813b63785be16b47f4a50a066a4f9e75&quot;,\n",
              "                {\n",
              "                    center: [-18.91825694430117, -48.257722972602856],\n",
              "                    crs: L.CRS.EPSG3857,\n",
              "                    zoom: 30,\n",
              "                    zoomControl: true,\n",
              "                    preferCanvas: false,\n",
              "                }\n",
              "            );\n",
              "\n",
              "            \n",
              "\n",
              "        \n",
              "    \n",
              "            var tile_layer_b8bb469fd08ccca32e82729bc8a77792 = L.tileLayer(\n",
              "                &quot;https://tile.openstreetmap.org/{z}/{x}/{y}.png&quot;,\n",
              "                {&quot;attribution&quot;: &quot;\\u0026copy; \\u003ca href=\\&quot;https://www.openstreetmap.org/copyright\\&quot;\\u003eOpenStreetMap\\u003c/a\\u003e contributors&quot;, &quot;detectRetina&quot;: false, &quot;maxNativeZoom&quot;: 19, &quot;maxZoom&quot;: 19, &quot;minZoom&quot;: 0, &quot;noWrap&quot;: false, &quot;opacity&quot;: 1, &quot;subdomains&quot;: &quot;abc&quot;, &quot;tms&quot;: false}\n",
              "            );\n",
              "        \n",
              "    \n",
              "            tile_layer_b8bb469fd08ccca32e82729bc8a77792.addTo(map_813b63785be16b47f4a50a066a4f9e75);\n",
              "        \n",
              "    \n",
              "            var polygon_87601cfda2262e21b0d8657a565e3463 = L.polygon(\n",
              "                [[-18.91592192416536, -48.259025985841866], [-18.91728192262522, -48.254016037349054], [-18.919341982664264, -48.25464899956789], [-18.920833956758965, -48.26219098291303], [-18.92056995539113, -48.262265970701954]],\n",
              "                {&quot;bubblingMouseEvents&quot;: true, &quot;color&quot;: &quot;blue&quot;, &quot;dashArray&quot;: null, &quot;dashOffset&quot;: null, &quot;fill&quot;: true, &quot;fillColor&quot;: &quot;red&quot;, &quot;fillOpacity&quot;: 0.5, &quot;fillRule&quot;: &quot;evenodd&quot;, &quot;lineCap&quot;: &quot;round&quot;, &quot;lineJoin&quot;: &quot;round&quot;, &quot;noClip&quot;: false, &quot;opacity&quot;: 1.0, &quot;smoothFactor&quot;: 1.0, &quot;stroke&quot;: true, &quot;weight&quot;: 6}\n",
              "            ).addTo(map_813b63785be16b47f4a50a066a4f9e75);\n",
              "        \n",
              "    \n",
              "        var popup_d599393ff2088dab587f541b82f100b0 = L.popup({&quot;maxWidth&quot;: &quot;100%&quot;});\n",
              "\n",
              "        \n",
              "            \n",
              "                var html_a496a15092b0d40f78105f2bc8a26a1b = $(`&lt;div id=&quot;html_a496a15092b0d40f78105f2bc8a26a1b&quot; style=&quot;width: 100.0%; height: 100.0%;&quot;&gt;Campus UFU Santa Monica&lt;/div&gt;`)[0];\n",
              "                popup_d599393ff2088dab587f541b82f100b0.setContent(html_a496a15092b0d40f78105f2bc8a26a1b);\n",
              "            \n",
              "        \n",
              "\n",
              "        polygon_87601cfda2262e21b0d8657a565e3463.bindPopup(popup_d599393ff2088dab587f541b82f100b0)\n",
              "        ;\n",
              "\n",
              "        \n",
              "    \n",
              "    \n",
              "            polygon_87601cfda2262e21b0d8657a565e3463.bindTooltip(\n",
              "                `&lt;div&gt;\n",
              "                     click me\n",
              "                 &lt;/div&gt;`,\n",
              "                {&quot;sticky&quot;: true}\n",
              "            );\n",
              "        \n",
              "&lt;/script&gt;\n",
              "&lt;/html&gt;\" style=\"position:absolute;width:100%;height:100%;left:0;top:0;border:none !important;\" allowfullscreen webkitallowfullscreen mozallowfullscreen></iframe></div></div>"
            ]
          },
          "metadata": {},
          "execution_count": 67
        }
      ]
    },
    {
      "cell_type": "markdown",
      "source": [
        "# Vetorização - Exemplo A"
      ],
      "metadata": {
        "id": "AgIp8Nv-D57k"
      }
    },
    {
      "cell_type": "code",
      "source": [
        "arquivoMCA = ListaCoordenadas('/content/sample_data/filemcA.txt')\n",
        "CoordGeoA = []\n",
        "\n",
        "# para cada elemento do arquivo\n",
        "for elemento in arquivoMCA:\n",
        "    leste = float(elemento[0])   # LESTE\n",
        "    norte = float(elemento[1])   # NORTE\n",
        "    zona = int(elemento[2])      # ZONA\n",
        "    hemisferio = elemento[3]     # SIGLA HEMISFERIO\n",
        "    conversorCoord = utm.to_latlon(leste, norte, zona, hemisferio) # Converor UTM para lat e long\n",
        "    CoordGeoA.append(conversorCoord)# add na lista Coordenadas Geograficas\n",
        "\n",
        "print(CoordGeoA)"
      ],
      "metadata": {
        "colab": {
          "base_uri": "https://localhost:8080/"
        },
        "id": "97JsgltvJT_y",
        "outputId": "e2859131-5ffb-41ee-a4e3-bfb7632f187a"
      },
      "execution_count": 68,
      "outputs": [
        {
          "output_type": "stream",
          "name": "stdout",
          "text": [
            "[(-18.7243799484422, -47.52416997175825), (-18.724119971815785, -47.52383996143948), (-18.72421998346003, -47.5237499808258), (-18.724489983855786, -47.52408004533226), (-18.724739991265395, -47.523850022328716), (-18.724870001516017, -47.524000005158236), (-18.724609970311807, -47.5242299739678), (-18.724660005693323, -47.52428995683739), (-18.724539990415987, -47.52438997155734), (-18.724489955064463, -47.524329988709404), (-18.724380008563195, -47.52442001106331), (-18.72427000326481, -47.52427999346426)]\n"
          ]
        }
      ]
    },
    {
      "cell_type": "code",
      "source": [
        "#COORDENADA DE ZOOM\n",
        "conversor = utm.to_latlon(233669.92, 7927890.24, 23, 'K')\n",
        "\n",
        "# mapa com o folium\n",
        "mapa = folium.Map(location=conversor, zoom_start=30)\n",
        "# `folium.Map` gera um mapa\n",
        "\n",
        "#VETORIZAÇÃO\n",
        "folium.Polygon(\n",
        "    locations=CoordGeoA,     # coordenadas dos vértices do polígono\n",
        "    color='blue',           # cor da borda\n",
        "    weight=6,               # largura da borda\n",
        "    fill_color='red',       # cor do preenchimento\n",
        "    fill_opacity=0.5,       # opacidade do preenchimento\n",
        "    fill=True,              # preenchimento ligado\n",
        "    popup='UFU - Campus ARARAS | Bloco A',  # Popup de texto\n",
        "    tooltip='click me',     # dica\n",
        ").add_to(mapa)\n",
        "\n",
        "mapa\n"
      ],
      "metadata": {
        "colab": {
          "base_uri": "https://localhost:8080/",
          "height": 685
        },
        "id": "6i764JLFJTqu",
        "outputId": "e8be383d-d18c-46bc-fb59-19763668387c"
      },
      "execution_count": 69,
      "outputs": [
        {
          "output_type": "execute_result",
          "data": {
            "text/plain": [
              "<folium.folium.Map at 0x7929c66b1420>"
            ],
            "text/html": [
              "<div style=\"width:100%;\"><div style=\"position:relative;width:100%;height:0;padding-bottom:60%;\"><span style=\"color:#565656\">Make this Notebook Trusted to load map: File -> Trust Notebook</span><iframe srcdoc=\"&lt;!DOCTYPE html&gt;\n",
              "&lt;html&gt;\n",
              "&lt;head&gt;\n",
              "    \n",
              "    &lt;meta http-equiv=&quot;content-type&quot; content=&quot;text/html; charset=UTF-8&quot; /&gt;\n",
              "    \n",
              "        &lt;script&gt;\n",
              "            L_NO_TOUCH = false;\n",
              "            L_DISABLE_3D = false;\n",
              "        &lt;/script&gt;\n",
              "    \n",
              "    &lt;style&gt;html, body {width: 100%;height: 100%;margin: 0;padding: 0;}&lt;/style&gt;\n",
              "    &lt;style&gt;#map {position:absolute;top:0;bottom:0;right:0;left:0;}&lt;/style&gt;\n",
              "    &lt;script src=&quot;https://cdn.jsdelivr.net/npm/leaflet@1.9.3/dist/leaflet.js&quot;&gt;&lt;/script&gt;\n",
              "    &lt;script src=&quot;https://code.jquery.com/jquery-3.7.1.min.js&quot;&gt;&lt;/script&gt;\n",
              "    &lt;script src=&quot;https://cdn.jsdelivr.net/npm/bootstrap@5.2.2/dist/js/bootstrap.bundle.min.js&quot;&gt;&lt;/script&gt;\n",
              "    &lt;script src=&quot;https://cdnjs.cloudflare.com/ajax/libs/Leaflet.awesome-markers/2.0.2/leaflet.awesome-markers.js&quot;&gt;&lt;/script&gt;\n",
              "    &lt;link rel=&quot;stylesheet&quot; href=&quot;https://cdn.jsdelivr.net/npm/leaflet@1.9.3/dist/leaflet.css&quot;/&gt;\n",
              "    &lt;link rel=&quot;stylesheet&quot; href=&quot;https://cdn.jsdelivr.net/npm/bootstrap@5.2.2/dist/css/bootstrap.min.css&quot;/&gt;\n",
              "    &lt;link rel=&quot;stylesheet&quot; href=&quot;https://netdna.bootstrapcdn.com/bootstrap/3.0.0/css/bootstrap-glyphicons.css&quot;/&gt;\n",
              "    &lt;link rel=&quot;stylesheet&quot; href=&quot;https://cdn.jsdelivr.net/npm/@fortawesome/fontawesome-free@6.2.0/css/all.min.css&quot;/&gt;\n",
              "    &lt;link rel=&quot;stylesheet&quot; href=&quot;https://cdnjs.cloudflare.com/ajax/libs/Leaflet.awesome-markers/2.0.2/leaflet.awesome-markers.css&quot;/&gt;\n",
              "    &lt;link rel=&quot;stylesheet&quot; href=&quot;https://cdn.jsdelivr.net/gh/python-visualization/folium/folium/templates/leaflet.awesome.rotate.min.css&quot;/&gt;\n",
              "    \n",
              "            &lt;meta name=&quot;viewport&quot; content=&quot;width=device-width,\n",
              "                initial-scale=1.0, maximum-scale=1.0, user-scalable=no&quot; /&gt;\n",
              "            &lt;style&gt;\n",
              "                #map_273974b5a9a9634d65b8cedfcd3da195 {\n",
              "                    position: relative;\n",
              "                    width: 100.0%;\n",
              "                    height: 100.0%;\n",
              "                    left: 0.0%;\n",
              "                    top: 0.0%;\n",
              "                }\n",
              "                .leaflet-container { font-size: 1rem; }\n",
              "            &lt;/style&gt;\n",
              "        \n",
              "&lt;/head&gt;\n",
              "&lt;body&gt;\n",
              "    \n",
              "    \n",
              "            &lt;div class=&quot;folium-map&quot; id=&quot;map_273974b5a9a9634d65b8cedfcd3da195&quot; &gt;&lt;/div&gt;\n",
              "        \n",
              "&lt;/body&gt;\n",
              "&lt;script&gt;\n",
              "    \n",
              "    \n",
              "            var map_273974b5a9a9634d65b8cedfcd3da195 = L.map(\n",
              "                &quot;map_273974b5a9a9634d65b8cedfcd3da195&quot;,\n",
              "                {\n",
              "                    center: [-18.723416985376772, -47.52565598570274],\n",
              "                    crs: L.CRS.EPSG3857,\n",
              "                    zoom: 30,\n",
              "                    zoomControl: true,\n",
              "                    preferCanvas: false,\n",
              "                }\n",
              "            );\n",
              "\n",
              "            \n",
              "\n",
              "        \n",
              "    \n",
              "            var tile_layer_0e3ea50491f12c75e3c8b15af9c1a894 = L.tileLayer(\n",
              "                &quot;https://tile.openstreetmap.org/{z}/{x}/{y}.png&quot;,\n",
              "                {&quot;attribution&quot;: &quot;\\u0026copy; \\u003ca href=\\&quot;https://www.openstreetmap.org/copyright\\&quot;\\u003eOpenStreetMap\\u003c/a\\u003e contributors&quot;, &quot;detectRetina&quot;: false, &quot;maxNativeZoom&quot;: 19, &quot;maxZoom&quot;: 19, &quot;minZoom&quot;: 0, &quot;noWrap&quot;: false, &quot;opacity&quot;: 1, &quot;subdomains&quot;: &quot;abc&quot;, &quot;tms&quot;: false}\n",
              "            );\n",
              "        \n",
              "    \n",
              "            tile_layer_0e3ea50491f12c75e3c8b15af9c1a894.addTo(map_273974b5a9a9634d65b8cedfcd3da195);\n",
              "        \n",
              "    \n",
              "            var polygon_aaee6db1d28b367a4335650b4501117c = L.polygon(\n",
              "                [[-18.7243799484422, -47.52416997175825], [-18.724119971815785, -47.52383996143948], [-18.72421998346003, -47.5237499808258], [-18.724489983855786, -47.52408004533226], [-18.724739991265395, -47.523850022328716], [-18.724870001516017, -47.524000005158236], [-18.724609970311807, -47.5242299739678], [-18.724660005693323, -47.52428995683739], [-18.724539990415987, -47.52438997155734], [-18.724489955064463, -47.524329988709404], [-18.724380008563195, -47.52442001106331], [-18.72427000326481, -47.52427999346426]],\n",
              "                {&quot;bubblingMouseEvents&quot;: true, &quot;color&quot;: &quot;blue&quot;, &quot;dashArray&quot;: null, &quot;dashOffset&quot;: null, &quot;fill&quot;: true, &quot;fillColor&quot;: &quot;red&quot;, &quot;fillOpacity&quot;: 0.5, &quot;fillRule&quot;: &quot;evenodd&quot;, &quot;lineCap&quot;: &quot;round&quot;, &quot;lineJoin&quot;: &quot;round&quot;, &quot;noClip&quot;: false, &quot;opacity&quot;: 1.0, &quot;smoothFactor&quot;: 1.0, &quot;stroke&quot;: true, &quot;weight&quot;: 6}\n",
              "            ).addTo(map_273974b5a9a9634d65b8cedfcd3da195);\n",
              "        \n",
              "    \n",
              "        var popup_7f398298c1fe75f133040f7abff934a2 = L.popup({&quot;maxWidth&quot;: &quot;100%&quot;});\n",
              "\n",
              "        \n",
              "            \n",
              "                var html_1a148fd35f11fdf18f0e01949dd8dd0c = $(`&lt;div id=&quot;html_1a148fd35f11fdf18f0e01949dd8dd0c&quot; style=&quot;width: 100.0%; height: 100.0%;&quot;&gt;UFU - Campus ARARAS | Bloco A&lt;/div&gt;`)[0];\n",
              "                popup_7f398298c1fe75f133040f7abff934a2.setContent(html_1a148fd35f11fdf18f0e01949dd8dd0c);\n",
              "            \n",
              "        \n",
              "\n",
              "        polygon_aaee6db1d28b367a4335650b4501117c.bindPopup(popup_7f398298c1fe75f133040f7abff934a2)\n",
              "        ;\n",
              "\n",
              "        \n",
              "    \n",
              "    \n",
              "            polygon_aaee6db1d28b367a4335650b4501117c.bindTooltip(\n",
              "                `&lt;div&gt;\n",
              "                     click me\n",
              "                 &lt;/div&gt;`,\n",
              "                {&quot;sticky&quot;: true}\n",
              "            );\n",
              "        \n",
              "&lt;/script&gt;\n",
              "&lt;/html&gt;\" style=\"position:absolute;width:100%;height:100%;left:0;top:0;border:none !important;\" allowfullscreen webkitallowfullscreen mozallowfullscreen></iframe></div></div>"
            ]
          },
          "metadata": {},
          "execution_count": 69
        }
      ]
    },
    {
      "cell_type": "markdown",
      "source": [
        "# Vetorização - Exemplo B"
      ],
      "metadata": {
        "id": "9aflzjqTEuA0"
      }
    },
    {
      "cell_type": "code",
      "source": [
        "arquivoMCB = ListaCoordenadas('/content/sample_data/filemcB.txt')\n",
        "CoordGeoB = []\n",
        "\n",
        "# para cada elemento do arquivo\n",
        "for elemento in arquivoMCB:\n",
        "    leste = float(elemento[0])   # LESTE\n",
        "    norte = float(elemento[1])   # NORTE\n",
        "    zona = int(elemento[2])      # ZONA\n",
        "    hemisferio = elemento[3]     # SIGLA HEMISFERIO\n",
        "    conversorCoord = utm.to_latlon(leste, norte, zona, hemisferio) # Converor UTM para lat e long\n",
        "    CoordGeoB.append(conversorCoord)# add na lista Coordenadas Geograficas\n",
        "\n",
        "print(CoordGeoB)"
      ],
      "metadata": {
        "id": "wJZJ6mFbE0kh",
        "colab": {
          "base_uri": "https://localhost:8080/"
        },
        "outputId": "dc0c38eb-9b81-4850-b29f-9c29d09f0aa4"
      },
      "execution_count": 72,
      "outputs": [
        {
          "output_type": "stream",
          "name": "stdout",
          "text": [
            "[(-18.723539978490823, -47.524150008372715), (-18.723460002449848, -47.5240400098975), (-18.723589950815345, -47.523919954201155), (-18.72368997544212, -47.52402996611961), (-18.723999988905653, -47.523750031306925), (-18.724079963787027, -47.52384003077959), (-18.72376995019498, -47.52411996552335), (-18.72401999052296, -47.52443001819756), (-18.723880018228627, -47.52455001960878), (-18.723629978086954, -47.52423996706606), (-18.723579994113262, -47.52429002830217), (-18.723489949397887, -47.52419002196453)]\n"
          ]
        }
      ]
    },
    {
      "cell_type": "code",
      "source": [
        "#COORDENADA DE ZOOM\n",
        "conversor = utm.to_latlon(233669.92, 7927890.24, 23, 'K')\n",
        "\n",
        "# mapa com o folium\n",
        "mapa = folium.Map(location=conversor, zoom_start=30)\n",
        "# `folium.Map` gera um mapa\n",
        "\n",
        "#VETORIZAÇÃO\n",
        "folium.Polygon(\n",
        "    locations=CoordGeoB,     # coordenadas dos vértices do polígono\n",
        "    color='blue',           # cor da borda\n",
        "    weight=6,               # largura da borda\n",
        "    fill_color='red',       # cor do preenchimento\n",
        "    fill_opacity=0.5,       # opacidade do preenchimento\n",
        "    fill=True,              # preenchimento ligado\n",
        "    popup='UFU - Campus ARARAS | Bloco B',  # Popup de texto\n",
        "    tooltip='click me',     # dica\n",
        ").add_to(mapa)\n",
        "\n",
        "mapa"
      ],
      "metadata": {
        "id": "6NfQpM59E1V1",
        "colab": {
          "base_uri": "https://localhost:8080/",
          "height": 685
        },
        "outputId": "e053f9a4-7b70-4fda-a526-26d17bb6affc"
      },
      "execution_count": 73,
      "outputs": [
        {
          "output_type": "execute_result",
          "data": {
            "text/plain": [
              "<folium.folium.Map at 0x7929c66b03a0>"
            ],
            "text/html": [
              "<div style=\"width:100%;\"><div style=\"position:relative;width:100%;height:0;padding-bottom:60%;\"><span style=\"color:#565656\">Make this Notebook Trusted to load map: File -> Trust Notebook</span><iframe srcdoc=\"&lt;!DOCTYPE html&gt;\n",
              "&lt;html&gt;\n",
              "&lt;head&gt;\n",
              "    \n",
              "    &lt;meta http-equiv=&quot;content-type&quot; content=&quot;text/html; charset=UTF-8&quot; /&gt;\n",
              "    \n",
              "        &lt;script&gt;\n",
              "            L_NO_TOUCH = false;\n",
              "            L_DISABLE_3D = false;\n",
              "        &lt;/script&gt;\n",
              "    \n",
              "    &lt;style&gt;html, body {width: 100%;height: 100%;margin: 0;padding: 0;}&lt;/style&gt;\n",
              "    &lt;style&gt;#map {position:absolute;top:0;bottom:0;right:0;left:0;}&lt;/style&gt;\n",
              "    &lt;script src=&quot;https://cdn.jsdelivr.net/npm/leaflet@1.9.3/dist/leaflet.js&quot;&gt;&lt;/script&gt;\n",
              "    &lt;script src=&quot;https://code.jquery.com/jquery-3.7.1.min.js&quot;&gt;&lt;/script&gt;\n",
              "    &lt;script src=&quot;https://cdn.jsdelivr.net/npm/bootstrap@5.2.2/dist/js/bootstrap.bundle.min.js&quot;&gt;&lt;/script&gt;\n",
              "    &lt;script src=&quot;https://cdnjs.cloudflare.com/ajax/libs/Leaflet.awesome-markers/2.0.2/leaflet.awesome-markers.js&quot;&gt;&lt;/script&gt;\n",
              "    &lt;link rel=&quot;stylesheet&quot; href=&quot;https://cdn.jsdelivr.net/npm/leaflet@1.9.3/dist/leaflet.css&quot;/&gt;\n",
              "    &lt;link rel=&quot;stylesheet&quot; href=&quot;https://cdn.jsdelivr.net/npm/bootstrap@5.2.2/dist/css/bootstrap.min.css&quot;/&gt;\n",
              "    &lt;link rel=&quot;stylesheet&quot; href=&quot;https://netdna.bootstrapcdn.com/bootstrap/3.0.0/css/bootstrap-glyphicons.css&quot;/&gt;\n",
              "    &lt;link rel=&quot;stylesheet&quot; href=&quot;https://cdn.jsdelivr.net/npm/@fortawesome/fontawesome-free@6.2.0/css/all.min.css&quot;/&gt;\n",
              "    &lt;link rel=&quot;stylesheet&quot; href=&quot;https://cdnjs.cloudflare.com/ajax/libs/Leaflet.awesome-markers/2.0.2/leaflet.awesome-markers.css&quot;/&gt;\n",
              "    &lt;link rel=&quot;stylesheet&quot; href=&quot;https://cdn.jsdelivr.net/gh/python-visualization/folium/folium/templates/leaflet.awesome.rotate.min.css&quot;/&gt;\n",
              "    \n",
              "            &lt;meta name=&quot;viewport&quot; content=&quot;width=device-width,\n",
              "                initial-scale=1.0, maximum-scale=1.0, user-scalable=no&quot; /&gt;\n",
              "            &lt;style&gt;\n",
              "                #map_e57b9f1975a92523994c0c4cb2cdb941 {\n",
              "                    position: relative;\n",
              "                    width: 100.0%;\n",
              "                    height: 100.0%;\n",
              "                    left: 0.0%;\n",
              "                    top: 0.0%;\n",
              "                }\n",
              "                .leaflet-container { font-size: 1rem; }\n",
              "            &lt;/style&gt;\n",
              "        \n",
              "&lt;/head&gt;\n",
              "&lt;body&gt;\n",
              "    \n",
              "    \n",
              "            &lt;div class=&quot;folium-map&quot; id=&quot;map_e57b9f1975a92523994c0c4cb2cdb941&quot; &gt;&lt;/div&gt;\n",
              "        \n",
              "&lt;/body&gt;\n",
              "&lt;script&gt;\n",
              "    \n",
              "    \n",
              "            var map_e57b9f1975a92523994c0c4cb2cdb941 = L.map(\n",
              "                &quot;map_e57b9f1975a92523994c0c4cb2cdb941&quot;,\n",
              "                {\n",
              "                    center: [-18.723416985376772, -47.52565598570274],\n",
              "                    crs: L.CRS.EPSG3857,\n",
              "                    zoom: 30,\n",
              "                    zoomControl: true,\n",
              "                    preferCanvas: false,\n",
              "                }\n",
              "            );\n",
              "\n",
              "            \n",
              "\n",
              "        \n",
              "    \n",
              "            var tile_layer_6174885c29e042d62c55d273d9f41208 = L.tileLayer(\n",
              "                &quot;https://tile.openstreetmap.org/{z}/{x}/{y}.png&quot;,\n",
              "                {&quot;attribution&quot;: &quot;\\u0026copy; \\u003ca href=\\&quot;https://www.openstreetmap.org/copyright\\&quot;\\u003eOpenStreetMap\\u003c/a\\u003e contributors&quot;, &quot;detectRetina&quot;: false, &quot;maxNativeZoom&quot;: 19, &quot;maxZoom&quot;: 19, &quot;minZoom&quot;: 0, &quot;noWrap&quot;: false, &quot;opacity&quot;: 1, &quot;subdomains&quot;: &quot;abc&quot;, &quot;tms&quot;: false}\n",
              "            );\n",
              "        \n",
              "    \n",
              "            tile_layer_6174885c29e042d62c55d273d9f41208.addTo(map_e57b9f1975a92523994c0c4cb2cdb941);\n",
              "        \n",
              "    \n",
              "            var polygon_ae61fabfb8b9bd98abd3de1efb931073 = L.polygon(\n",
              "                [[-18.723539978490823, -47.524150008372715], [-18.723460002449848, -47.5240400098975], [-18.723589950815345, -47.523919954201155], [-18.72368997544212, -47.52402996611961], [-18.723999988905653, -47.523750031306925], [-18.724079963787027, -47.52384003077959], [-18.72376995019498, -47.52411996552335], [-18.72401999052296, -47.52443001819756], [-18.723880018228627, -47.52455001960878], [-18.723629978086954, -47.52423996706606], [-18.723579994113262, -47.52429002830217], [-18.723489949397887, -47.52419002196453]],\n",
              "                {&quot;bubblingMouseEvents&quot;: true, &quot;color&quot;: &quot;blue&quot;, &quot;dashArray&quot;: null, &quot;dashOffset&quot;: null, &quot;fill&quot;: true, &quot;fillColor&quot;: &quot;red&quot;, &quot;fillOpacity&quot;: 0.5, &quot;fillRule&quot;: &quot;evenodd&quot;, &quot;lineCap&quot;: &quot;round&quot;, &quot;lineJoin&quot;: &quot;round&quot;, &quot;noClip&quot;: false, &quot;opacity&quot;: 1.0, &quot;smoothFactor&quot;: 1.0, &quot;stroke&quot;: true, &quot;weight&quot;: 6}\n",
              "            ).addTo(map_e57b9f1975a92523994c0c4cb2cdb941);\n",
              "        \n",
              "    \n",
              "        var popup_2f6ef09fbfcc1535018c9e9605b20296 = L.popup({&quot;maxWidth&quot;: &quot;100%&quot;});\n",
              "\n",
              "        \n",
              "            \n",
              "                var html_213ef5fd8f6334ae209680732f063c63 = $(`&lt;div id=&quot;html_213ef5fd8f6334ae209680732f063c63&quot; style=&quot;width: 100.0%; height: 100.0%;&quot;&gt;UFU - Campus ARARAS | Bloco B&lt;/div&gt;`)[0];\n",
              "                popup_2f6ef09fbfcc1535018c9e9605b20296.setContent(html_213ef5fd8f6334ae209680732f063c63);\n",
              "            \n",
              "        \n",
              "\n",
              "        polygon_ae61fabfb8b9bd98abd3de1efb931073.bindPopup(popup_2f6ef09fbfcc1535018c9e9605b20296)\n",
              "        ;\n",
              "\n",
              "        \n",
              "    \n",
              "    \n",
              "            polygon_ae61fabfb8b9bd98abd3de1efb931073.bindTooltip(\n",
              "                `&lt;div&gt;\n",
              "                     click me\n",
              "                 &lt;/div&gt;`,\n",
              "                {&quot;sticky&quot;: true}\n",
              "            );\n",
              "        \n",
              "&lt;/script&gt;\n",
              "&lt;/html&gt;\" style=\"position:absolute;width:100%;height:100%;left:0;top:0;border:none !important;\" allowfullscreen webkitallowfullscreen mozallowfullscreen></iframe></div></div>"
            ]
          },
          "metadata": {},
          "execution_count": 73
        }
      ]
    },
    {
      "cell_type": "markdown",
      "source": [
        "# Referência"
      ],
      "metadata": {
        "id": "6vMQ-VZe33XA"
      }
    },
    {
      "cell_type": "markdown",
      "source": [
        "FOLIUM\n",
        "  \n",
        "    DOC https://python-visualization.github.io/folium/index.html\n",
        "\n",
        "    Flavio-SudoControl http://sudocontrol.com.br/\n",
        "\n",
        "    Eng.Robert Carlos https://datalivre.medium.com/folium-d6036a9ad29c\n",
        "\n",
        "UTM\n",
        "\n",
        "    https://github.com/Turbo87/utm\n",
        "\n",
        "\n",
        "\n",
        "\n",
        "\n",
        "Desenvolvido por:\n",
        "\n",
        "    Guilherme Bou e Vinicius Pires"
      ],
      "metadata": {
        "id": "WdsAcSHL353Q"
      }
    }
  ]
}